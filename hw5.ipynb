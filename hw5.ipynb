{
 "cells": [
  {
   "cell_type": "markdown",
   "metadata": {
    "deletable": true,
    "editable": true
   },
   "source": [
    "# CS 196 Spring 2017 Homework 5"
   ]
  },
  {
   "cell_type": "markdown",
   "metadata": {
    "deletable": true,
    "editable": true
   },
   "source": [
    "Table of Contents:\n",
    "1. [Two-Sum](#Two-Sum)\n",
    "2. [Binary Search](#Binary-Search)\n",
    "3. [Mergesort](#Mergesort)\n",
    "5. [Subset-Sum](#Subset-Sum)\n",
    "4. [Pokomon](#Pokomon)"
   ]
  },
  {
   "cell_type": "markdown",
   "metadata": {
    "deletable": true,
    "editable": true
   },
   "source": [
    "## Two Sum\n",
    "---\n",
    "\n",
    "In this problem, given a list of integers and another integer, return whether it is possible to create the value given by summing exactly two of the elements.\n",
    "\n",
    "### Examples\n",
    "Input: `[1, -3, 3, 6, 5, -1]`, `8`\n",
    "\n",
    "Output: `True`\n",
    "\n",
    "\n",
    "Input: `[3, 7, 5]`, `7`\n",
    "\n",
    "Output: `False`\n",
    "\n",
    "### Parameters\n",
    "`arr: [int]` The list to check for subset sums\n",
    "`num: int` The number to check if a subset sums to\n",
    "\n",
    "### Returns\n",
    "`boolean` whether the given array has a subset that sums to the given number."
   ]
  },
  {
   "cell_type": "code",
   "execution_count": 1,
   "metadata": {
    "collapsed": true,
    "deletable": true,
    "editable": true
   },
   "outputs": [],
   "source": [
    "def two_sum(arr, num):\n",
    "    if type(arr) != list:\n",
    "        arr = list(arr)\n",
    "    m = len(arr)-1\n",
    "    for i in range(len(arr)):\n",
    "        \n",
    "        n = len(arr)-i-1\n",
    "        if n == 0:\n",
    "            continue\n",
    "        #print(\"Sum of element\", (arr[m]),\"and\", (arr[n-1]), \"is\", (arr[m]+arr[n-1]))\n",
    "        if arr[m]+arr[n-1] == num:\n",
    "            return True\n",
    "    \n",
    "    del arr[m]\n",
    "    if m == 0:\n",
    "        return False\n",
    "    return two_sum(arr,num)"
   ]
  },
  {
   "cell_type": "code",
   "execution_count": 2,
   "metadata": {
    "collapsed": true,
    "deletable": true,
    "editable": true
   },
   "outputs": [],
   "source": [
    "def test_two_sum():\n",
    "    assert two_sum([1, -3, 3, 6, 5, -1], 8)\n",
    "    assert not two_sum([3, 7, 5], 7)\n",
    "    assert not two_sum(range(-30,30,2), 1)"
   ]
  },
  {
   "cell_type": "markdown",
   "metadata": {
    "collapsed": true,
    "deletable": true,
    "editable": true
   },
   "source": [
    "## Binary Search\n",
    "---\n",
    "\n",
    "Given a sorted array and a value, find the index of that value. Return `-1` if the element does not exist.\n",
    "\n",
    "\n",
    "### Examples\n",
    "Input: `[1, 4, 7, 10, 11, 15]`, `8`\n",
    "\n",
    "Output: `-1`\n",
    "\n",
    "\n",
    "Input: `[7, 20, 25, 28, 32, 59]`, `7`\n",
    "\n",
    "Output: `0`\n",
    "\n",
    "### Parameters\n",
    "`arr: [int]` The list to search over.\n",
    "`val: int` The value find the element for.\n",
    "\n",
    "### Returns\n",
    "`boolean` whether the given array has a subset that sums to the given number.\n",
    "\n",
    "### Restrictions\n",
    "* `list.index()` is banned.\n",
    "* Your solution must in a similar runtime as mentioned in class"
   ]
  },
  {
   "cell_type": "code",
   "execution_count": 3,
   "metadata": {
    "collapsed": true,
    "deletable": true,
    "editable": true
   },
   "outputs": [],
   "source": [
    "def binary_search(arr, val):\n",
    "    for i in range(len(arr)):\n",
    "        n = len(arr)-1-i\n",
    "        #print(arr[n])\n",
    "        if arr[n] == val:\n",
    "            return n\n",
    "    return -1"
   ]
  },
  {
   "cell_type": "code",
   "execution_count": 4,
   "metadata": {
    "collapsed": false,
    "deletable": true,
    "editable": true
   },
   "outputs": [],
   "source": [
    "def test_binary_search():\n",
    "    assert binary_search([1, 4, 7, 10, 11, 15], 8) == -1\n",
    "    assert binary_search([7, 20, 25, 28, 32, 59], 7) == 0\n",
    "    assert binary_search([-1, 2, 4, 7, 9, 10], 5) == -1\n",
    "    assert binary_search([-2, 4, 5, 7, 101, 111, 121], 101) == 4"
   ]
  },
  {
   "cell_type": "markdown",
   "metadata": {
    "deletable": true,
    "editable": true
   },
   "source": [
    "## Mergesort\n",
    "---\n",
    "\n",
    "This problem involves implementing the Mergesort algorithm.\n",
    "\n",
    "### Restrictions\n",
    "\n",
    "You may not use the sort() function, and your solution should be recursive.\n",
    "\n",
    "### Examples\n",
    "Input: `[3, 4, 5, 2, 1, 9, 6, 7, 8]`\n",
    "\n",
    "Output: `[1, 2, 3, 4, 5, 6, 7, 8, 9]`.\n",
    "\n",
    "\n",
    "Input: `[4, 3, 5, 3, 5, 4]`\n",
    "\n",
    "Output: `[3, 3, 4, 4, 5, 5]`\n",
    "\n",
    "### Parameters\n",
    "`arr: [int]` The list of integers to be sorted.\n",
    "\n",
    "### Returns\n",
    "`arr: [int]` The sorted list of integers"
   ]
  },
  {
   "cell_type": "code",
   "execution_count": 10,
   "metadata": {
    "collapsed": true,
    "deletable": true,
    "editable": true
   },
   "outputs": [],
   "source": [
    "def merge_sort(arr):\n",
    "    def sort(m,n):\n",
    "        x = []\n",
    "        i = j  = 0\n",
    "        while i < len(m) or j < len(n):\n",
    "            if i < len(m) and j < len(n):\n",
    "                if m[i] <= n[j]:\n",
    "                    x+=[m[i]]\n",
    "                    i += 1\n",
    "                else:\n",
    "                    x+=[n[j]]\n",
    "                    j += 1\n",
    "            elif i < len(m):\n",
    "                x += [m[i]]\n",
    "                i += 1\n",
    "            else:\n",
    "                x += [n[j]]\n",
    "                j += 1\n",
    "        return x\n",
    "    \n",
    "    if len(arr) < 2:\n",
    "        return arr\n",
    "    else:\n",
    "        middle = int(len(arr)/2)\n",
    "        half = arr[:middle]\n",
    "        otherhalf = arr[middle:]\n",
    "        \n",
    "        #print(half, otherhalf)\n",
    "        \n",
    "        split_left = merge_sort(half)\n",
    "        split_right = merge_sort(otherhalf)\n",
    "        #print(split_left, split_right)\n",
    "    \n",
    "        return sort(split_left,split_right)"
   ]
  },
  {
   "cell_type": "code",
   "execution_count": 11,
   "metadata": {
    "collapsed": true,
    "deletable": true,
    "editable": true
   },
   "outputs": [],
   "source": [
    "def test_merge_sort():\n",
    "    assert merge_sort([3, 4, 5, 2, 1, 9, 6, 7, 8]) == [1, 2, 3, 4, 5, 6, 7, 8, 9]\n",
    "    assert merge_sort([4, 3, 5, 3, 5, 4]) == [3, 3, 4, 4, 5, 5]\n",
    "    assert merge_sort([3, 2, 1]) == [1, 2, 3]"
   ]
  },
  {
   "cell_type": "markdown",
   "metadata": {
    "deletable": true,
    "editable": true
   },
   "source": [
    "## Subset Sum\n",
    "---\n",
    "\n",
    "In this problem, given a list of integers and another integer, return whether any subset of the list is able to sum to the integer.\n",
    "\n",
    "### Examples\n",
    "Input: `[1, 2, 3, 4, 5]`, `8`\n",
    "\n",
    "Output: `True`\n",
    "\n",
    "\n",
    "Input: `[2, 3, 1]`, `7`\n",
    "\n",
    "Output: `False`\n",
    "\n",
    "### Parameters\n",
    "`arr: [int]` The list to check for subset sums\n",
    "`num: int` The number to check if a subset sums to\n",
    "\n",
    "### Returns\n",
    "`boolean` whether the given array has a subset that sums to the given number."
   ]
  },
  {
   "cell_type": "code",
   "execution_count": 16,
   "metadata": {
    "collapsed": true,
    "deletable": true,
    "editable": true
   },
   "outputs": [],
   "source": [
    "def subset_sum(arr, num):\n",
    "    if num < 1 or num == 0:           #base cases\n",
    "        return False\n",
    "    elif len(arr) == 0:\n",
    "        return False\n",
    "    else:\n",
    "        if arr[0] == num:\n",
    "            return True\n",
    "        else:\n",
    "            for i in range(len(arr)):\n",
    "                #print(\"i-\",i)\n",
    "                #print(arr[:i] + arr[i+1:], num - arr[i])\n",
    "                if subset_sum(arr[:i] + arr[i+1:], num - arr[i]):\n",
    "                    return True\n",
    "            if num in arr:\n",
    "                return True\n",
    "            return False"
   ]
  },
  {
   "cell_type": "code",
   "execution_count": 17,
   "metadata": {
    "collapsed": true,
    "deletable": true,
    "editable": true
   },
   "outputs": [],
   "source": [
    "def test_subset_sum():\n",
    "    assert subset_sum([1, 2, 3, 4, 5], 8)\n",
    "    assert not subset_sum([2, 3, 1], 7)\n",
    "    assert subset_sum([4, 8, 10], 8)"
   ]
  },
  {
   "cell_type": "markdown",
   "metadata": {
    "deletable": true,
    "editable": true
   },
   "source": [
    "## Pokomon\n",
    "---\n",
    "\n",
    "With great respect to Shotaro.\n",
    "\n",
    "Recently, there's been a lot of research on training Pokomon. We have made rapid advancements in how Pokomon gain experience, at the expense of only having two moves!\n",
    "\n",
    "We are given a list of Pokomon HP to fight in order, and we have two choices for each one:\n",
    "1. Tackle - this will defeat the enemy Pokomon and increase our experience by Current Strength * enemy HP.\n",
    "2. Belly Drum - this will increase our Current Strength by 1, but the enemy Pokomon flees.\n",
    "\n",
    "Current Strength starts at 1.\n",
    "\n",
    "We want to find the maximum experience gain we can get.\n",
    "\n",
    "### Examples\n",
    "* input: `[3, 2, 2]`\n",
    "    * We would want to Belly Drum a Pokomon with 2 first, which gives us a strength of 2. Then Tackle the other two, which gives 2 &#42; 2+ 2 &#42; 3 = 10 XP.\n",
    "Return **10**.\n",
    "\n",
    "### Parameters\n",
    "`plist: [int]` The list of integers representing a list of Pokomon by HP\n",
    "\n",
    "### Returns\n",
    "`int` The maximum XP we can get from this battle sequence.\n",
    "\n",
    "### Restrictions\n",
    "* No recursion.\n",
    "* Do not modify the input list.\n",
    "* Size of input list is surely less than $2^{32}$."
   ]
  },
  {
   "cell_type": "code",
   "execution_count": 26,
   "metadata": {
    "collapsed": true,
    "deletable": true,
    "editable": true
   },
   "outputs": [],
   "source": [
    "def pokomon(plist):\n",
    "    \n",
    "    def bellydrum(n):\n",
    "        #Increase str by 1\n",
    "        for i in range(len(plist)):\n",
    "            if n in pokedex[i]:\n",
    "                pokedex[i][1] += 1\n",
    "                break\n",
    "        print(pokedex)\n",
    "                \n",
    "    def tackle(n):\n",
    "        #calculates EXP gained\n",
    "        exp = 0\n",
    "        a = 0\n",
    "        for i in range(len(plist)):\n",
    "            if n in pokedex[i]:\n",
    "                a = pokedex[i][1] \n",
    "                s = i\n",
    "                print(\"Attacking Pokomon -\",\"location:\",i,\"strength:\",a)\n",
    "                break\n",
    "        for i in range(len(plist)):\n",
    "            if i == s:\n",
    "                continue\n",
    "            else:\n",
    "                exp += a*pokedex[i][0]\n",
    "                print(\"Current strength:\",a,\"Enemy health:\",pokedex[i][0],\"EXP Gained:\",exp,)\n",
    "        return exp      \n",
    "    \n",
    "    base_str = [1]*(len(plist))\n",
    "    pokedex = []\n",
    "    \n",
    "    if len(plist) == 0:\n",
    "        return 0\n",
    "    \n",
    "    for i in range(len(plist)):\n",
    "        pokedex.append([])\n",
    "        for j in range(2):\n",
    "            if j == 0:\n",
    "                pokedex[i].append(plist[i])\n",
    "            if j == 1:\n",
    "                pokedex[i].append(base_str[i])\n",
    "\n",
    "    #I could not complete this problem. I have completed the other problems, please give me some feedback. \n",
    "    #I was generally very confused when tackling these problems and require more time to do them"
   ]
  },
  {
   "cell_type": "code",
   "execution_count": 23,
   "metadata": {
    "collapsed": false,
    "deletable": true,
    "editable": true
   },
   "outputs": [],
   "source": [
    "def test_pokomon():\n",
    "    assert pokomon([]) == 0\n",
    "    assert pokomon([3,2,2]) == 10\n",
    "    assert pokomon(list(range(5))) == 28"
   ]
  },
  {
   "cell_type": "code",
   "execution_count": 24,
   "metadata": {
    "collapsed": true,
    "deletable": true,
    "editable": true
   },
   "outputs": [],
   "source": [
    "def test_all():\n",
    "    test_two_sum()\n",
    "    test_binary_search()\n",
    "    test_merge_sort()\n",
    "    test_subset_sum()\n",
    "    test_pokomon()"
   ]
  },
  {
   "cell_type": "code",
   "execution_count": 25,
   "metadata": {
    "collapsed": false,
    "deletable": true,
    "editable": true
   },
   "outputs": [
    {
     "ename": "AssertionError",
     "evalue": "",
     "output_type": "error",
     "traceback": [
      "\u001b[1;31m---------------------------------------------------------------------------\u001b[0m",
      "\u001b[1;31mAssertionError\u001b[0m                            Traceback (most recent call last)",
      "\u001b[1;32m<ipython-input-25-d56150f7ddd7>\u001b[0m in \u001b[0;36m<module>\u001b[1;34m()\u001b[0m\n\u001b[1;32m----> 1\u001b[1;33m \u001b[0mtest_all\u001b[0m\u001b[1;33m(\u001b[0m\u001b[1;33m)\u001b[0m\u001b[1;33m\u001b[0m\u001b[0m\n\u001b[0m",
      "\u001b[1;32m<ipython-input-24-7021b2b4dcaf>\u001b[0m in \u001b[0;36mtest_all\u001b[1;34m()\u001b[0m\n\u001b[0;32m      4\u001b[0m     \u001b[0mtest_merge_sort\u001b[0m\u001b[1;33m(\u001b[0m\u001b[1;33m)\u001b[0m\u001b[1;33m\u001b[0m\u001b[0m\n\u001b[0;32m      5\u001b[0m     \u001b[0mtest_subset_sum\u001b[0m\u001b[1;33m(\u001b[0m\u001b[1;33m)\u001b[0m\u001b[1;33m\u001b[0m\u001b[0m\n\u001b[1;32m----> 6\u001b[1;33m     \u001b[0mtest_pokomon\u001b[0m\u001b[1;33m(\u001b[0m\u001b[1;33m)\u001b[0m\u001b[1;33m\u001b[0m\u001b[0m\n\u001b[0m",
      "\u001b[1;32m<ipython-input-23-868e31dc3b65>\u001b[0m in \u001b[0;36mtest_pokomon\u001b[1;34m()\u001b[0m\n\u001b[0;32m      1\u001b[0m \u001b[1;32mdef\u001b[0m \u001b[0mtest_pokomon\u001b[0m\u001b[1;33m(\u001b[0m\u001b[1;33m)\u001b[0m\u001b[1;33m:\u001b[0m\u001b[1;33m\u001b[0m\u001b[0m\n\u001b[0;32m      2\u001b[0m     \u001b[1;32massert\u001b[0m \u001b[0mpokomon\u001b[0m\u001b[1;33m(\u001b[0m\u001b[1;33m[\u001b[0m\u001b[1;33m]\u001b[0m\u001b[1;33m)\u001b[0m \u001b[1;33m==\u001b[0m \u001b[1;36m0\u001b[0m\u001b[1;33m\u001b[0m\u001b[0m\n\u001b[1;32m----> 3\u001b[1;33m     \u001b[1;32massert\u001b[0m \u001b[0mpokomon\u001b[0m\u001b[1;33m(\u001b[0m\u001b[1;33m[\u001b[0m\u001b[1;36m3\u001b[0m\u001b[1;33m,\u001b[0m\u001b[1;36m2\u001b[0m\u001b[1;33m,\u001b[0m\u001b[1;36m2\u001b[0m\u001b[1;33m]\u001b[0m\u001b[1;33m)\u001b[0m \u001b[1;33m==\u001b[0m \u001b[1;36m10\u001b[0m\u001b[1;33m\u001b[0m\u001b[0m\n\u001b[0m\u001b[0;32m      4\u001b[0m     \u001b[1;32massert\u001b[0m \u001b[0mpokomon\u001b[0m\u001b[1;33m(\u001b[0m\u001b[0mlist\u001b[0m\u001b[1;33m(\u001b[0m\u001b[0mrange\u001b[0m\u001b[1;33m(\u001b[0m\u001b[1;36m5\u001b[0m\u001b[1;33m)\u001b[0m\u001b[1;33m)\u001b[0m\u001b[1;33m)\u001b[0m \u001b[1;33m==\u001b[0m \u001b[1;36m28\u001b[0m\u001b[1;33m\u001b[0m\u001b[0m\n",
      "\u001b[1;31mAssertionError\u001b[0m: "
     ]
    }
   ],
   "source": [
    "test_all()"
   ]
  },
  {
   "cell_type": "code",
   "execution_count": 1,
   "metadata": {
    "collapsed": false,
    "deletable": true,
    "editable": true
   },
   "outputs": [
    {
     "ename": "SyntaxError",
     "evalue": "invalid syntax (<ipython-input-1-b4901ce7d5ad>, line 1)",
     "output_type": "error",
     "traceback": [
      "\u001b[1;36m  File \u001b[1;32m\"<ipython-input-1-b4901ce7d5ad>\"\u001b[1;36m, line \u001b[1;32m1\u001b[0m\n\u001b[1;33m    git clone unique repository link\u001b[0m\n\u001b[1;37m            ^\u001b[0m\n\u001b[1;31mSyntaxError\u001b[0m\u001b[1;31m:\u001b[0m invalid syntax\n"
     ]
    }
   ],
   "source": []
  },
  {
   "cell_type": "code",
   "execution_count": null,
   "metadata": {
    "collapsed": true
   },
   "outputs": [],
   "source": []
  }
 ],
 "metadata": {
  "anaconda-cloud": {},
  "kernelspec": {
   "display_name": "Python [Root]",
   "language": "python",
   "name": "Python [Root]"
  },
  "language_info": {
   "codemirror_mode": {
    "name": "ipython",
    "version": 2
   },
   "file_extension": ".py",
   "mimetype": "text/x-python",
   "name": "python",
   "nbconvert_exporter": "python",
   "pygments_lexer": "ipython2",
   "version": "2.7.12"
  }
 },
 "nbformat": 4,
 "nbformat_minor": 2
}
